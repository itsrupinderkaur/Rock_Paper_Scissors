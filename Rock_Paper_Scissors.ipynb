{
 "cells": [
  {
   "cell_type": "code",
   "execution_count": 19,
   "metadata": {},
   "outputs": [],
   "source": [
    "#There are two players in this game\n",
    "#player 1 is the user\n",
    "#player 2 is the computer system\n",
    "#there will be 3 rounds for this game\n",
    "#0 represents paper\n",
    "#1 for rock\n",
    "#2 for scissors\n",
    "#same choosen by both- Tie\n",
    "#paper vs rock- paper win\n",
    "#paper vs scissors- scissors win\n",
    "#rock vs scissors- rock win"
   ]
  },
  {
   "cell_type": "code",
   "execution_count": 20,
   "metadata": {},
   "outputs": [],
   "source": [
    "from random import randint\n",
    "def round_123():\n",
    "    a=int(input(\"paper 0 or rock 1 or scissors 2\"))\n",
    "    b= randint(0,2)\n",
    "    winner(a,b)"
   ]
  },
  {
   "cell_type": "code",
   "execution_count": 21,
   "metadata": {},
   "outputs": [],
   "source": [
    "def winner(a,b): \n",
    "    if a == b:\n",
    "        print(\"its a tie\")\n",
    "        player_1= player_1 +1\n",
    "        player_2= player_2 +1\n",
    "    elif a==0 and b==1:\n",
    "        print(\"player 1 is the winner for this round\")\n",
    "        player_1 = player_1 +1\n",
    "    elif a==1 and b==0:\n",
    "        print(\"player 2 is the winner for this round\")\n",
    "        player_2 = player_2 +1\n",
    "    elif a== 0 and b==2:\n",
    "        print(\"player 2 is the winner for this round\")\n",
    "        player_2 = player_2 +1\n",
    "    elif a== 2 and b==0:\n",
    "        print(\"player 1 is the winner for this round\")\n",
    "        player_1 = player_1 +1\n",
    "    elif a==1 and b==2:\n",
    "        print(\"player 1 is the winner for this round\")\n",
    "        player_1 = player_1 +1\n",
    "    elif a==2 and b==1:\n",
    "        print(\"player 2 is the winner for this round\")\n",
    "        plater_2 = player_2 +1\n",
    "    round_count = round_count +1\n",
    "    if round_count <4:\n",
    "        round_123()\n",
    "    else:\n",
    "        final_winner()"
   ]
  },
  {
   "cell_type": "code",
   "execution_count": 22,
   "metadata": {},
   "outputs": [],
   "source": [
    "def final_winner():\n",
    "    if player_1>player_2:\n",
    "        print(\"The final winner after 3 rounds of the game is player 1\")\n",
    "    else:\n",
    "        print(\"The final winner after 3 rounds of the game is player 2\")"
   ]
  },
  {
   "cell_type": "code",
   "execution_count": 25,
   "metadata": {},
   "outputs": [
    {
     "ename": "SyntaxError",
     "evalue": "invalid syntax (<ipython-input-25-ef77313cf24b>, line 1)",
     "output_type": "error",
     "traceback": [
      "\u001b[1;36m  File \u001b[1;32m\"<ipython-input-25-ef77313cf24b>\"\u001b[1;36m, line \u001b[1;32m1\u001b[0m\n\u001b[1;33m    global player_1=0\u001b[0m\n\u001b[1;37m                   ^\u001b[0m\n\u001b[1;31mSyntaxError\u001b[0m\u001b[1;31m:\u001b[0m invalid syntax\n"
     ]
    }
   ],
   "source": [
    "global player_1=0\n",
    "global player_2=0\n",
    "global round_count=1\n",
    "round_123()"
   ]
  },
  {
   "cell_type": "code",
   "execution_count": null,
   "metadata": {},
   "outputs": [],
   "source": []
  }
 ],
 "metadata": {
  "kernelspec": {
   "display_name": "Python 3",
   "language": "python",
   "name": "python3"
  },
  "language_info": {
   "codemirror_mode": {
    "name": "ipython",
    "version": 3
   },
   "file_extension": ".py",
   "mimetype": "text/x-python",
   "name": "python",
   "nbconvert_exporter": "python",
   "pygments_lexer": "ipython3",
   "version": "3.7.4"
  }
 },
 "nbformat": 4,
 "nbformat_minor": 2
}
